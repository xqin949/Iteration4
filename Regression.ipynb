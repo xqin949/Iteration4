{
 "cells": [
  {
   "cell_type": "code",
   "execution_count": 2,
   "metadata": {},
   "outputs": [],
   "source": [
    "import findspark\n",
    "findspark.init('/home/ubuntu/spark-2.1.1-bin-hadoop2.7')\n",
    "import pyspark\n",
    "from pyspark.sql import SparkSession\n",
    "spark = SparkSession.builder.appName('test1').getOrCreate()\n",
    "\n"
   ]
  },
  {
   "cell_type": "code",
   "execution_count": 3,
   "metadata": {},
   "outputs": [],
   "source": [
    "df = spark.read.csv('data of air quality/finaldataset.csv', inferSchema=True, header=True)"
   ]
  },
  {
   "cell_type": "code",
   "execution_count": 4,
   "metadata": {
    "scrolled": true
   },
   "outputs": [
    {
     "name": "stdout",
     "output_type": "stream",
     "text": [
      "root\n",
      " |-- Date: timestamp (nullable = true)\n",
      " |-- PM25: double (nullable = true)\n",
      " |-- NO: double (nullable = true)\n",
      " |-- NO2: double (nullable = true)\n",
      " |-- NOx: double (nullable = true)\n",
      " |-- NH3: double (nullable = true)\n",
      " |-- CO: double (nullable = true)\n",
      " |-- SO2: double (nullable = true)\n",
      " |-- O3: double (nullable = true)\n",
      " |-- Benzene: double (nullable = true)\n",
      " |-- Toluene: double (nullable = true)\n",
      " |-- AQI: integer (nullable = true)\n",
      " |-- AQI_Bucket: integer (nullable = true)\n",
      " |-- ChangeStrategyOrNot: integer (nullable = true)\n",
      " |-- CityIndex: integer (nullable = true)\n",
      "\n",
      "root\n",
      " |-- PM25: double (nullable = true)\n",
      " |-- NO: double (nullable = true)\n",
      " |-- NO2: double (nullable = true)\n",
      " |-- NOx: double (nullable = true)\n",
      " |-- NH3: double (nullable = true)\n",
      " |-- CO: double (nullable = true)\n",
      " |-- SO2: double (nullable = true)\n",
      " |-- O3: double (nullable = true)\n",
      " |-- Benzene: double (nullable = true)\n",
      " |-- Toluene: double (nullable = true)\n",
      " |-- ChangeStrategyOrNot: integer (nullable = true)\n",
      " |-- CityIndex: integer (nullable = true)\n",
      "\n"
     ]
    }
   ],
   "source": [
    "#df.show()\n",
    "df.printSchema()\n",
    "df=df.drop(\"Date\")\n",
    "finaldf = df.drop(\"AQI\", 'AQI_Bucket')\n",
    "finaldf.printSchema()"
   ]
  },
  {
   "cell_type": "code",
   "execution_count": 5,
   "metadata": {},
   "outputs": [],
   "source": [
    "dataregression = finaldf.drop('ChangeStrategyOrNot')"
   ]
  },
  {
   "cell_type": "code",
   "execution_count": 6,
   "metadata": {},
   "outputs": [],
   "source": [
    "from pyspark.ml.regression import LinearRegression"
   ]
  },
  {
   "cell_type": "code",
   "execution_count": 7,
   "metadata": {},
   "outputs": [],
   "source": [
    "lr = LinearRegression(featuresCol='features', labelCol='label', predictionCol='prediction')"
   ]
  },
  {
   "cell_type": "code",
   "execution_count": 8,
   "metadata": {},
   "outputs": [
    {
     "name": "stdout",
     "output_type": "stream",
     "text": [
      "+------------------------------------------------------+-----+\n",
      "|features                                              |label|\n",
      "+------------------------------------------------------+-----+\n",
      "|[7.2,1.27,10.65,25.63,0.56,4.22,2.81,0.01,0.08,15.0]  |31.21|\n",
      "|[7.19,0.91,10.37,29.16,0.57,4.46,0.18,0.0,0.0,15.0]   |38.39|\n",
      "|[7.14,1.07,10.48,28.95,0.57,4.53,0.41,0.0,0.0,15.0]   |43.23|\n",
      "|[7.09,0.36,9.73,28.41,0.48,4.63,0.3,0.0,0.0,15.0]     |33.82|\n",
      "|[5.63,2.32,8.09,23.98,0.5,4.71,13.02,0.13,0.68,15.0]  |27.14|\n",
      "|[3.07,2.14,3.41,24.57,0.48,4.84,6.03,0.25,1.34,15.0]  |27.32|\n",
      "|[3.0,1.48,5.24,23.42,0.47,5.04,8.76,0.24,1.19,15.0]   |31.76|\n",
      "|[2.97,1.31,4.97,23.41,0.48,5.3,9.96,0.26,1.11,15.0]   |43.8 |\n",
      "|[3.01,0.83,4.64,24.85,0.49,5.32,6.43,0.27,1.15,15.0]  |35.48|\n",
      "|[3.01,0.88,4.62,24.44,0.49,5.63,8.62,49.66,50.11,15.0]|51.27|\n",
      "|[2.93,0.13,3.65,18.55,0.37,5.41,5.64,13.07,13.69,15.0]|33.24|\n",
      "|[2.98,0.16,3.71,20.24,0.32,5.63,5.73,62.93,62.45,15.0]|35.34|\n",
      "|[2.96,0.14,3.66,20.21,0.37,6.17,5.59,0.33,0.33,15.0]  |47.34|\n",
      "|[2.96,0.17,3.77,25.43,0.44,6.75,6.44,0.23,0.84,15.0]  |53.64|\n",
      "|[2.96,0.13,3.69,25.48,0.42,6.8,5.87,0.25,0.92,15.0]   |54.9 |\n",
      "|[2.94,0.11,3.59,28.26,0.4,7.34,6.42,0.22,0.82,15.0]   |44.64|\n",
      "|[2.92,0.35,3.89,29.89,0.44,7.69,8.76,0.23,0.66,15.0]  |51.33|\n",
      "|[2.93,0.13,3.64,28.47,0.36,7.8,7.99,0.19,0.6,15.0]    |34.54|\n",
      "|[2.93,0.24,3.79,29.05,0.42,7.67,7.4,0.19,0.73,15.0]   |39.47|\n",
      "|[2.95,0.25,3.8,30.99,0.4,7.9,6.74,0.18,0.8,15.0]      |27.27|\n",
      "+------------------------------------------------------+-----+\n",
      "only showing top 20 rows\n",
      "\n"
     ]
    }
   ],
   "source": [
    "from pyspark.ml.feature import RFormula\n",
    "\n",
    "ff = RFormula(\n",
    "    formula = 'PM25 ~ .',\n",
    "    featuresCol = 'features',\n",
    "    labelCol = 'label'\n",
    "    )\n",
    "\n",
    "vecf = ff.fit(dataregression).transform(dataregression)\n",
    "df2vecf = vecf.select('features','label')\n",
    "df2vecf.show(truncate = False)"
   ]
  },
  {
   "cell_type": "code",
   "execution_count": 9,
   "metadata": {},
   "outputs": [],
   "source": [
    "(trainingData, testData) = df2vecf.randomSplit([0.7, 0.3])"
   ]
  },
  {
   "cell_type": "code",
   "execution_count": 10,
   "metadata": {},
   "outputs": [],
   "source": [
    "lrModel = lr.fit(trainingData)"
   ]
  },
  {
   "cell_type": "code",
   "execution_count": 11,
   "metadata": {},
   "outputs": [],
   "source": [
    "test_results = lrModel.evaluate(testData)"
   ]
  },
  {
   "cell_type": "code",
   "execution_count": 12,
   "metadata": {},
   "outputs": [
    {
     "name": "stdout",
     "output_type": "stream",
     "text": [
      "+-------------------+\n",
      "|          residuals|\n",
      "+-------------------+\n",
      "| 14.917306604707733|\n",
      "|-12.645443638250466|\n",
      "| -4.262193403844485|\n",
      "| 15.526301877404087|\n",
      "| 13.813013706426704|\n",
      "|-3.7423562625965587|\n",
      "| 12.227319422173785|\n",
      "| 20.887768479020153|\n",
      "|-11.751651025408648|\n",
      "|  29.25397385776315|\n",
      "| 10.026975868892102|\n",
      "| 31.523921214370226|\n",
      "|  2.404143478063645|\n",
      "|  22.84792418207185|\n",
      "| 30.352177704393675|\n",
      "| 20.514472444091048|\n",
      "| 12.756218841305696|\n",
      "| -7.465769514567864|\n",
      "| -2.333538738193411|\n",
      "| 17.189253419272845|\n",
      "+-------------------+\n",
      "only showing top 20 rows\n",
      "\n",
      "RMSE: 39.316678423220374\n"
     ]
    }
   ],
   "source": [
    "test_results.residuals.show()\n",
    "print(\"RMSE: {}\".format(test_results.rootMeanSquaredError))"
   ]
  },
  {
   "cell_type": "code",
   "execution_count": 13,
   "metadata": {},
   "outputs": [
    {
     "name": "stdout",
     "output_type": "stream",
     "text": [
      "Coefficients: [0.7622371061467684,0.6616363337852524,0.007712805540991076,0.6580277872132876,4.521110406723865,0.6103366644868007,0.3667111356689157,-0.7512829564552937,0.8156184710030225,0.7083833345415311]\n",
      "\n",
      "\n",
      "Intercept:-21.701324651280956\n"
     ]
    }
   ],
   "source": [
    "print(\"Coefficients: {}\".format(str(lrModel.coefficients))) # For each feature...\n",
    "print('\\n')\n",
    "print(\"Intercept:{}\".format(str(lrModel.intercept)))"
   ]
  },
  {
   "cell_type": "code",
   "execution_count": 14,
   "metadata": {},
   "outputs": [],
   "source": [
    "trainingSummary = lrModel.summary"
   ]
  },
  {
   "cell_type": "code",
   "execution_count": 15,
   "metadata": {},
   "outputs": [
    {
     "name": "stdout",
     "output_type": "stream",
     "text": [
      "+-------------------+\n",
      "|          residuals|\n",
      "+-------------------+\n",
      "|  22.96072928322856|\n",
      "|  8.609417021618818|\n",
      "| 14.217939114583672|\n",
      "|   16.3309019813588|\n",
      "| -3.493708619318639|\n",
      "|  87.62391879465443|\n",
      "| -8.876755892888756|\n",
      "| 7.2274066459122075|\n",
      "| 15.025330904375911|\n",
      "| 10.106236804202549|\n",
      "| 21.684815021262096|\n",
      "|  16.85719480146028|\n",
      "| -3.844233306715765|\n",
      "| -4.543269913432496|\n",
      "| 13.908253759167597|\n",
      "| 17.491126754492647|\n",
      "|  17.70179413348473|\n",
      "| -2.438083492289813|\n",
      "|-3.5843945155505352|\n",
      "| -11.21422388631622|\n",
      "+-------------------+\n",
      "only showing top 20 rows\n",
      "\n",
      "RMSE: 36.85891723626681\n",
      "r2: 0.6993210489948706\n"
     ]
    }
   ],
   "source": [
    "trainingSummary.residuals.show()\n",
    "\n",
    "# Print Root Mean Squared Error. \n",
    "print(\"RMSE: {}\".format(trainingSummary.rootMeanSquaredError))\n",
    "\n",
    "# Print R-Squared.\n",
    "print(\"r2: {}\".format(trainingSummary.r2))"
   ]
  },
  {
   "cell_type": "code",
   "execution_count": 16,
   "metadata": {},
   "outputs": [],
   "source": [
    "#Advanced"
   ]
  },
  {
   "cell_type": "code",
   "execution_count": 17,
   "metadata": {},
   "outputs": [],
   "source": [
    "# Import VectorAssembler and Vectors\n",
    "from pyspark.ml.linalg import Vectors\n",
    "from pyspark.ml.feature import VectorAssembler"
   ]
  },
  {
   "cell_type": "code",
   "execution_count": 18,
   "metadata": {},
   "outputs": [],
   "source": [
    "assembler = VectorAssembler(\n",
    "    inputCols=[\"PM25\", \"NO\", \n",
    "               \"NO2\",'NOx',\"NH3\",\"CO\",\"SO2\",\"O3\",\"Benzene\",\"Toluene\",\"CityIndex\"],\n",
    "    outputCol=\"features\")"
   ]
  },
  {
   "cell_type": "code",
   "execution_count": 19,
   "metadata": {},
   "outputs": [],
   "source": [
    "output = assembler.transform(dataregression)"
   ]
  },
  {
   "cell_type": "code",
   "execution_count": 20,
   "metadata": {},
   "outputs": [],
   "source": [
    "final_data = output.select(\"features\",'PM25')"
   ]
  },
  {
   "cell_type": "code",
   "execution_count": 21,
   "metadata": {},
   "outputs": [],
   "source": [
    "train_data,test_data = final_data.randomSplit([0.7,0.3])"
   ]
  },
  {
   "cell_type": "code",
   "execution_count": 22,
   "metadata": {},
   "outputs": [
    {
     "name": "stdout",
     "output_type": "stream",
     "text": [
      "Coefficients: [0.9999999999999997,-1.205256668120019e-15,-1.873913885598802e-15,1.8665948207085526e-15,3.502763130821986e-16,-1.0706039909933274e-14,3.0320280824286152e-15,4.3690832600247235e-16,5.716638585077843e-16,-5.427314473469501e-16,-3.873336085171711e-15] Intercept: -7.135581406111148e-15\n"
     ]
    }
   ],
   "source": [
    "lr = LinearRegression(labelCol='PM25')\n",
    "lrModel = lr.fit(train_data)\n",
    "print(\"Coefficients: {} Intercept: {}\".format(lrModel.coefficients,lrModel.intercept))"
   ]
  },
  {
   "cell_type": "code",
   "execution_count": 23,
   "metadata": {},
   "outputs": [],
   "source": [
    "test_results = lrModel.evaluate(test_data)"
   ]
  },
  {
   "cell_type": "code",
   "execution_count": 24,
   "metadata": {},
   "outputs": [
    {
     "name": "stdout",
     "output_type": "stream",
     "text": [
      "+--------------------+\n",
      "|           residuals|\n",
      "+--------------------+\n",
      "|3.752553823233029...|\n",
      "|-8.43769498715119...|\n",
      "|1.065814103640150...|\n",
      "|3.108624468950438...|\n",
      "|2.131628207280300...|\n",
      "|1.332267629550187...|\n",
      "|7.105427357601002...|\n",
      "|-2.93098878501041...|\n",
      "|1.865174681370263...|\n",
      "|-3.19744231092045...|\n",
      "|1.065814103640150...|\n",
      "|3.197442310920451...|\n",
      "|4.174438572590588...|\n",
      "|2.664535259100375...|\n",
      "|-8.88178419700125...|\n",
      "|1.065814103640150...|\n",
      "|4.352074256530613...|\n",
      "|-8.88178419700125...|\n",
      "|-2.66453525910037...|\n",
      "|2.753353101070388...|\n",
      "+--------------------+\n",
      "only showing top 20 rows\n",
      "\n",
      "RSME: 4.951631379167478e-14\n"
     ]
    }
   ],
   "source": [
    "# Interesting results! This shows the difference between the predicted value and the test data.\n",
    "test_results.residuals.show()\n",
    "\n",
    "# Let's get some evaluation metrics (as discussed in the previous linear regression notebook).\n",
    "print(\"RSME: {}\".format(test_results.rootMeanSquaredError))\n",
    "#RMSE, on average, the discrepancy between the actual and predicted result"
   ]
  },
  {
   "cell_type": "code",
   "execution_count": 25,
   "metadata": {},
   "outputs": [
    {
     "name": "stdout",
     "output_type": "stream",
     "text": [
      "R2: 1.0\n"
     ]
    }
   ],
   "source": [
    "# We can also get the R2 value. \n",
    "print(\"R2: {}\".format(test_results.r2))\n",
    "#R2 percentage of variance account "
   ]
  },
  {
   "cell_type": "code",
   "execution_count": 26,
   "metadata": {},
   "outputs": [
    {
     "name": "stdout",
     "output_type": "stream",
     "text": [
      "+-------+------------------+\n",
      "|summary|              PM25|\n",
      "+-------+------------------+\n",
      "|  count|              6674|\n",
      "|   mean|62.302305963440304|\n",
      "| stddev| 67.65959569304867|\n",
      "|    min|              0.99|\n",
      "|    max|            685.36|\n",
      "+-------+------------------+\n",
      "\n"
     ]
    }
   ],
   "source": [
    "final_data.describe().show()"
   ]
  },
  {
   "cell_type": "code",
   "execution_count": 27,
   "metadata": {},
   "outputs": [],
   "source": []
  },
  {
   "cell_type": "code",
   "execution_count": 28,
   "metadata": {},
   "outputs": [],
   "source": []
  },
  {
   "cell_type": "code",
   "execution_count": 30,
   "metadata": {},
   "outputs": [],
   "source": []
  },
  {
   "cell_type": "code",
   "execution_count": 31,
   "metadata": {},
   "outputs": [],
   "source": []
  },
  {
   "cell_type": "code",
   "execution_count": 32,
   "metadata": {},
   "outputs": [],
   "source": []
  },
  {
   "cell_type": "code",
   "execution_count": 33,
   "metadata": {},
   "outputs": [],
   "source": []
  },
  {
   "cell_type": "code",
   "execution_count": 35,
   "metadata": {},
   "outputs": [],
   "source": []
  },
  {
   "cell_type": "code",
   "execution_count": null,
   "metadata": {},
   "outputs": [],
   "source": []
  },
  {
   "cell_type": "code",
   "execution_count": null,
   "metadata": {},
   "outputs": [],
   "source": []
  }
 ],
 "metadata": {
  "kernelspec": {
   "display_name": "Python 3",
   "language": "python",
   "name": "python3"
  },
  "language_info": {
   "codemirror_mode": {
    "name": "ipython",
    "version": 3
   },
   "file_extension": ".py",
   "mimetype": "text/x-python",
   "name": "python",
   "nbconvert_exporter": "python",
   "pygments_lexer": "ipython3",
   "version": "3.5.2"
  }
 },
 "nbformat": 4,
 "nbformat_minor": 2
}
